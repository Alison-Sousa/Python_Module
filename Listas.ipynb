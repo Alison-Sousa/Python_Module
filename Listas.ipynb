{
  "nbformat": 4,
  "nbformat_minor": 0,
  "metadata": {
    "colab": {
      "name": "Listas.ipynb",
      "provenance": [],
      "collapsed_sections": []
    },
    "kernelspec": {
      "name": "python3",
      "display_name": "Python 3"
    },
    "language_info": {
      "name": "python"
    }
  },
  "cells": [
    {
      "cell_type": "markdown",
      "source": [
        "# **Listas de dados**\n",
        "\n",
        "\n",
        "Uma variável pode armazenar uma lista de dados, isso pode ser feito atribuindo-se a uma variável um conjunto de dados delimitado por colchetes,  por exemplo:\n",
        "\n",
        "\n",
        "\n",
        "> ***nome_variável = [ lista de dados ]***\n",
        "\n",
        "\n",
        "\n",
        "Os dados devem ser separados uns dos outros por vírgula e quando forem dados alfanuméricos ou datas devem ser indicados entre aspas. No exemplo a seguir observe as linhas 1 e 2 do programa.\n",
        "\n",
        "\n",
        "Na linha 1 temos uma lista de nomes sendo atribuída à variável alunos:\n",
        "\n",
        "> alunos = ['Sandra', 'Pedro', 'Lucas', 'Gabriela']\n",
        "\n",
        "Cada dado (nome) ocupa uma posição na lista iniciando-se da posição 1.\n",
        "\n",
        "> posição 0 = Sandra\n",
        "\n",
        "> posição 1 = Pedro\n",
        "\n",
        "> posição 2 = Lucas\n",
        "\n",
        "> posição 3 = Gabriela\n",
        "\n",
        "\n",
        "Para utilizar o valor (dado) armazenado em uma determinada posição basta indicar o nome da lista (variável)  e a respectiva posição, sendo assim, para exibir o nome que está na posição 5 devemos indicar **nome_lista[posição]**, por exemplo, alunos[5]. Na linha 3 do programa a seguir a operação **print(alunos[5])** mostrará o dado Matheus.\n",
        "\n",
        "Quando utiliza-se apenas o nome da lista, sem a indicação de uma posição, todos os elementos serão apresentados, conforme a linha 4 do programa **print(alunos)**\n"
      ],
      "metadata": {
        "id": "V6HywH5milEQ"
      }
    },
    {
      "cell_type": "markdown",
      "source": [
        "Exemplo utilizando listas"
      ],
      "metadata": {
        "id": "YzfFuN6KBqBh"
      }
    },
    {
      "cell_type": "code",
      "execution_count": null,
      "metadata": {
        "id": "WD3Qea5mBo6g"
      },
      "outputs": [],
      "source": [
        "## Criando duas listas\n",
        "alunos = ['Sandra', 'Pedro', 'Lucas', 'Gabriela','Ricardo', 'Matheus', 'Laurinha', ' Victor']\n",
        "idade =  [51,        19,      16,      21,        27,        19,         19,         19]\n",
        "print(alunos[5]) ## exibindo os elemento que ocupa a posição 5 na lista alunos\n",
        "print(alunos)    ## exibindo todos os elementos da lista alunos\n",
        "print(alunos[3], idade[3])  ## exibindo o elemento que ocupa a posição 3 das listas alunos e idade\n"
      ]
    },
    {
      "cell_type": "markdown",
      "source": [
        "Operações aritméticas envolvendo elementos de uma lista"
      ],
      "metadata": {
        "id": "UIk_Uz1tJP7v"
      }
    },
    {
      "cell_type": "code",
      "source": [
        "idade =    [51, 19, 16, 21, 27, 19, 19, 19]\n",
        "# posição    0   1   2   3   4   5   6   7\n",
        "# nome_lista[posição]\n",
        "print(\" Elemento da posição 5 ...\", idade[5])\n",
        "## somando todas as idades e armazenando na variável somaIdades\n",
        "somaIdades = idade[0] + idade[1] + idade[2] + idade[3] + idade[4] + idade[5] + idade[6] + idade[7]\n",
        "print(somaIdades)"
      ],
      "metadata": {
        "id": "_g0pFQH2birL"
      },
      "execution_count": null,
      "outputs": []
    },
    {
      "cell_type": "markdown",
      "source": [
        "O exemplo a seguir realiza a soma das idades utilizando uma estrutura de repetição"
      ],
      "metadata": {
        "id": "d2AOTWHUKNZk"
      }
    },
    {
      "cell_type": "code",
      "source": [
        "idade =    [51, 19, 16, 21, 27, 19, 19, 19]\n",
        "## refazendo o exemplo anterior utilizando uma estrutura de repetição para somar todas as idades e armazenar na variável somaIdades\n",
        "somaIdades = 0\n",
        "for i in range(0, 8): ## lembre-se que para pegar os elemetnos das posições 0 à 7  o range vai de 0 até < 8\n",
        "  somaIdades = somaIdades + idade[i] \n",
        "print(somaIdades)"
      ],
      "metadata": {
        "colab": {
          "base_uri": "https://localhost:8080/"
        },
        "id": "4cpK050bHsWp",
        "outputId": "cdb7e608-b235-4417-a072-c0c75fa007c6"
      },
      "execution_count": null,
      "outputs": [
        {
          "output_type": "stream",
          "name": "stdout",
          "text": [
            "191\n"
          ]
        }
      ]
    },
    {
      "cell_type": "markdown",
      "source": [
        "Podemos utilizar a função len() para identificar o tamanho da lista, isso nos possibilita utilizar uma variável para controlar o número de iterações do for:"
      ],
      "metadata": {
        "id": "51184FP6LAX2"
      }
    },
    {
      "cell_type": "code",
      "source": [
        "idade =    [51, 19, 16, 21, 27, 19, 19, 19]\n",
        "tamanhoLista = len(idade)\n",
        "print(tamanhoLista)"
      ],
      "metadata": {
        "colab": {
          "base_uri": "https://localhost:8080/"
        },
        "id": "Atjl3BsGLIq2",
        "outputId": "18066ebf-9819-4f16-d732-37118e9825d8"
      },
      "execution_count": null,
      "outputs": [
        {
          "output_type": "stream",
          "name": "stdout",
          "text": [
            "8\n"
          ]
        }
      ]
    },
    {
      "cell_type": "markdown",
      "source": [
        "Vamos reescrever o programa para somar os valores da lista aplicando o uso da função len()"
      ],
      "metadata": {
        "id": "Dn-jMPIQLx7C"
      }
    },
    {
      "cell_type": "code",
      "source": [
        "idade =    [51, 19, 16, 21, 27, 19, 19, 19]\n",
        "tamanhoLista = len(idade)\n",
        "somaIdades = 0\n",
        "for i in range(0, tamanhoLista): \n",
        "  somaIdades = somaIdades + idade[i] \n",
        "print(somaIdades)"
      ],
      "metadata": {
        "colab": {
          "base_uri": "https://localhost:8080/"
        },
        "id": "R-90L0FPLTwa",
        "outputId": "9501e390-b2e3-4b1b-8e8f-c545ee7904f7"
      },
      "execution_count": null,
      "outputs": [
        {
          "output_type": "stream",
          "name": "stdout",
          "text": [
            "191\n"
          ]
        }
      ]
    },
    {
      "cell_type": "markdown",
      "source": [
        "A instrução **insert()** pode ser utilizada para preencher dinâmicamente uma lista. A sua sintaxe é:\n",
        "\n",
        "nomeLista.insert(posição, valor que será inserido)\n",
        "\n",
        "**Exemplos: **\n",
        "\n",
        "> *idade.insert(0,78)* - insere o valor 78 na posição 0 da lista\n",
        "\n",
        "> *idade.insert(5, 101)* - insere o valor 101 na posição de número 5 da lista\n",
        "\n",
        "> *idade.insert(len(idade), 90)* *texto em itálico* - insere o valor 90 na última posição da lista"
      ],
      "metadata": {
        "id": "W7Gq9ZMBMOV2"
      }
    },
    {
      "cell_type": "code",
      "source": [
        "idade =    [51, 19, 16, 21, 27, 19, 19, 19]\n",
        "print('lista original          ... ', idade)\n",
        "idade.insert(0, 78)\n",
        "idade.insert(5, 101)\n",
        "idade.insert(len(idade), 90)\n",
        "print('lista após as inserções ... ', idade)"
      ],
      "metadata": {
        "id": "Y8K-9ICDMn4e"
      },
      "execution_count": null,
      "outputs": []
    },
    {
      "cell_type": "markdown",
      "source": [
        "No exemplo a seguir uma lista com nomes e outra com valores de salário é preenchida dinâmicamente com dados fornecidos pelo usuário:"
      ],
      "metadata": {
        "id": "NmcRPa1mPutZ"
      }
    },
    {
      "cell_type": "code",
      "source": [
        "nome    = [] ##criando uma lista vazia\n",
        "salario = []\n",
        "tamanhoLista = int(input(\"Informe a quantidade de elementos da lista   \"))\n",
        "for i in range(0,tamanhoLista): \n",
        "  nome.insert(i,          input(\"Informe o nome        \"))\n",
        "  salario.insert(i, float(input(\"Digite o salário      \")))\n",
        "\n",
        "print(nome, salario)"
      ],
      "metadata": {
        "id": "C6Fy0Ux7awUE"
      },
      "execution_count": null,
      "outputs": []
    },
    {
      "cell_type": "markdown",
      "source": [
        "A instrução pop() pode ser utilizada para remover o elemento de uma posição da lista.\n",
        "\n",
        "nomeLista.pop(posição)\n",
        "\n",
        "*Exemplos: *\n",
        "\n",
        "> idade.pop(0) - remove o valor que ocupa a posição 0 da lista\n",
        "\n",
        "> idade.pop(len(idade -1)) - remove o último elemento da lista\n",
        "\n",
        "> idade.pop(3) - remove o elemento que ocupa a posição 3 da lista\n"
      ],
      "metadata": {
        "id": "kNDw2CltIgdw"
      }
    },
    {
      "cell_type": "code",
      "source": [
        "idade =    [78, 51, 19, 16, 101, 21, 27, 19, 19, 19, 90]\n",
        "print('Lista antes das remoções                              ', idade)\n",
        "idade.pop(0)\n",
        "print('Lista após a remoção do elemento da posição 0         ', idade)\n",
        "idade.pop(len(idade)-1)\n",
        "print('Lista após a remoção do elemento do último elemento   ', idade)\n",
        "idade.pop(3)\n",
        "print('Lista após a remoção do elemento da posição 3         ', idade)"
      ],
      "metadata": {
        "id": "BK-hYBx4cfrW",
        "colab": {
          "base_uri": "https://localhost:8080/"
        },
        "outputId": "f92e739e-1d1b-47f3-f179-2fc5b63947a4"
      },
      "execution_count": null,
      "outputs": [
        {
          "output_type": "stream",
          "name": "stdout",
          "text": [
            "Lista antes das remoções                               [78, 51, 19, 16, 101, 21, 27, 19, 19, 19, 90]\n",
            "Lista após a remoção do elemento da posição 0          [51, 19, 16, 101, 21, 27, 19, 19, 19, 90]\n",
            "Lista após a remoção do elemento do último elemento    [51, 19, 16, 101, 21, 27, 19, 19, 19]\n",
            "Lista após a remoção do elemento da posição 3          [51, 19, 16, 21, 27, 19, 19, 19]\n"
          ]
        }
      ]
    },
    {
      "cell_type": "markdown",
      "source": [
        "Exercício: Altere o exemplo acima para excluir um elemento de uma posição qualquer informada pelo usuário."
      ],
      "metadata": {
        "id": "eOVW_hYLUv61"
      }
    },
    {
      "cell_type": "code",
      "source": [
        "alunos = ['Sandra', 'Pedro', 'Lucas', 'Gabriela','Ricardo']\n",
        "idade = [51, 19, 16, 21, 27]\n",
        "posicao = int(input(\"Informe a posição a ser eliminada  \"))\n",
        "alunos.pop(posicao) # se desejarmos que o usuário informe qual posição deverá ser eliminada então substituir o 3 por um input\n",
        "idade.pop(posicao)\n",
        "print(alunos, idade)"
      ],
      "metadata": {
        "id": "wT1D28CNU4Ae"
      },
      "execution_count": null,
      "outputs": []
    },
    {
      "cell_type": "markdown",
      "source": [
        "**Atenção:** Se o usuário informar uma posição maior do que a quantidade de elementos da lista ocorrerá um erro, por isso é uma boa prática verificar se o valor informado é menor do que o tamanho do vetor utilizando o if, veja o exemplo a seguir:\n"
      ],
      "metadata": {
        "id": "wcGyQRDXUg1E"
      }
    },
    {
      "cell_type": "code",
      "source": [
        "idade =    [78, 51, 19, 16, 101, 21, 27, 19, 19, 19, 90]\n",
        "print('Lista original  ', idade)\n",
        "tamanhoLista = len(idade)\n",
        "print('Tamanho da lista', tamanhoLista)\n",
        "posicao = int(input(\"Informe a posição a ser eliminada  \"))\n",
        "\n",
        "if posicao < tamanhoLista:\n",
        "  valorEliminado = idade[posicao]\n",
        "  print('Valor eliminado ', valorEliminado, ' posição ', posicao)\n",
        "  idade.pop(posicao)\n",
        "  print(idade)\n",
        "else:\n",
        "  print('Posição inválida')  "
      ],
      "metadata": {
        "id": "WjdRiJr6V3zp",
        "colab": {
          "base_uri": "https://localhost:8080/"
        },
        "outputId": "3795cd42-770e-45a0-bd53-a978ea70dba1"
      },
      "execution_count": null,
      "outputs": [
        {
          "output_type": "stream",
          "name": "stdout",
          "text": [
            "Lista original   [78, 51, 19, 16, 101, 21, 27, 19, 19, 19, 90]\n",
            "Tamanho da lista 11\n",
            "Informe a posição a ser eliminada  12\n",
            "Posição inválida\n"
          ]
        }
      ]
    }
  ]
}