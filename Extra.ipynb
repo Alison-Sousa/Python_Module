{
  "nbformat": 4,
  "nbformat_minor": 0,
  "metadata": {
    "colab": {
      "name": "Lista Extra.ipynb",
      "provenance": []
    },
    "kernelspec": {
      "name": "python3",
      "display_name": "Python 3"
    },
    "language_info": {
      "name": "python"
    }
  },
  "cells": [
    {
      "cell_type": "markdown",
      "source": [
        "1)\tUma escola oferece diversos cursos e cobra o valor da mensalidade de acordo com a quantidade de disciplinas que o aluno deseja cursar.\n",
        "\n",
        " O valor dos créditos varia de acordo com o curso:\n",
        "\n",
        "\n",
        "1.   Administração de Empresas – valor do crédito 123,00\n",
        "2.   Ciências Sociais – valor do crédito 123,00\n",
        "3.   Propaganda e Publicidade – 148,00\n",
        "4.   Sistemas de Informação – 178,00\n",
        "5.   Marketing – 178,00\n",
        "\n",
        "Escreva um programa que leia o nome do aluno, o nome do seu curso e a quantidade de disciplinas que pretende cursar e calcule o valor da mensalidade.\n"
      ],
      "metadata": {
        "id": "3GiBtAz4ar_P"
      }
    },
    {
      "cell_type": "code",
      "execution_count": null,
      "metadata": {
        "id": "_FokvXMVaogF"
      },
      "outputs": [],
      "source": [
        "nome = input(\"Informe o seu nome     \")\n",
        "mensagem = \"Escolha o código de seu curso... \\n 1 - Adiministração de empresas \\n 2 - Ciências Sociais \\n 3 - Propaganda e Publicidade \\n 4 - Sistemas de Informação  \\n 5 - Marketing \\n\"\n",
        "curso = int(input(mensagem))\n",
        "n_creditos = int(input(\"Quantos créditos deseja cursar? \"))\n",
        "if(curso == 1 or curso == 2):\n",
        "  valor_mensalidade = n_creditos * 123.00\n",
        "elif(curso == 3):\n",
        "  valor_mensalidade = n_creditos * 148.00\n",
        "elif(curso == 4 or curso == 5):\n",
        "  valor_mensalidade = n_creditos * 178.00\n",
        "else:\n",
        "  print(\"Código inválido\")\n",
        "print(\"Nome do aluno  \", nome, \" matriculado no curso \", curso, \" vai cursar \",  n_creditos, \" créditos e pagará o valor de mensalidade \", valor_mensalidade )\n"
      ]
    },
    {
      "cell_type": "markdown",
      "source": [
        "2)\tA escola do programa acima tem 2000 alunos e quer saber qual será a sua rentabilidade mensal. Calcule e apresente o resultado. "
      ],
      "metadata": {
        "id": "c99NRcl1hMkS"
      }
    },
    {
      "cell_type": "code",
      "source": [
        "mensagem_escolha = \"Código dos cursos:  \\n 1 - Adiministração de empresas \\n 2 - Ciências Sociais \\n 3 - Propaganda e Publicidade \\n 4 - Sistemas de Informação  \\n 5 - Marketing \\n\"\n",
        "soma_total_mensalidades = 0\n",
        "print(mensagem)\n",
        "qt_aluno = int(input(\"informe a quantidade de alunos  \"))\n",
        "for total_alunos in range(0, qt_alunos):\n",
        "  nome = input(\"Informe o seu nome     \")\n",
        "  curso = int(input(\"Informe o código do curso   \"))\n",
        "  if(curso not in (1, 2, 3, 4, 5)):\n",
        "    print(\"Código inválido\")\n",
        "  else:\n",
        "     n_creditos = int(input(\"Quantos créditos deseja cursar? \"))\n",
        "     if(curso == 1 or curso == 2):\n",
        "       valor_mensalidade = n_creditos * 123.00\n",
        "     elif(curso == 3):\n",
        "       valor_mensalidade = n_creditos * 148.00\n",
        "     elif(curso == 4 or curso == 5):\n",
        "       valor_mensalidade = n_creditos * 178.00\n",
        "     print(\"Nome do aluno  \", nome, \" matriculado no curso \", curso, \" vai cursar \",  n_creditos, \" e pagará o valor de mensalidade \", valor_mensalidade )\n",
        " \n",
        "  soma_total_mensalidades = soma_total_mensalidades + valor_mensalidade \n",
        "print(\"Fim do laço de repetição \")\n",
        "\n",
        "print(\" ==================================================================\")\n",
        "\n",
        "print(\" A rentabilidade mensal da escola será de \", soma_total_mensalidades)"
      ],
      "metadata": {
        "id": "C0wPxZKchRz4"
      },
      "execution_count": null,
      "outputs": []
    },
    {
      "cell_type": "markdown",
      "source": [
        "3)\tUma empresa que trabalha com colocação de piso precisa de um algoritmo para calcular o total (em metros) que deverá ser comprado do piso. Para isso, identifique qual é o formato da área:\n",
        "\n",
        "\n",
        "1.   Quadrado\n",
        "2.   Retangular\n",
        "3.   Triangular\n",
        "\n",
        "\n",
        "De acordo com o formato do piso identifique as variáveis necessárias e calcule a metragem de piso necessária.\n"
      ],
      "metadata": {
        "id": "c0zWYT1-oHoU"
      }
    },
    {
      "cell_type": "markdown",
      "source": [
        ""
      ],
      "metadata": {
        "id": "_V3x8HLQopOF"
      }
    },
    {
      "cell_type": "code",
      "source": [
        "mensagem = \"Escolha o formato da área: \\n 1 - Quadrado \\n 2 - Retangular \\n  3 - Triangular \\n\"\n",
        "formato = int(input(\"Formato \"))\n",
        "if(formato == 1):\n",
        "  base = float(input(\"Informe a base ... \"))\n",
        "  area = base * base\n",
        "elif(formato == 2):\n",
        "  base = float(input(\"Informe a base ... \"))\n",
        "  altura = float(input(\"Informe  a altura ...\"))\n",
        "  area = base * altura\n",
        "elif(formato == 3):\n",
        "  base = float(input(\"Informe a base ... \"))\n",
        "  altura = float(input(\"Informe  a altura ...\"))\n",
        "  area = (base * altura) / 2\n",
        "else:\n",
        "  print(\"Formato inválido\")  \n",
        "print(\"A metragem é de \", area, \" metros \")\n",
        "\n",
        "\n",
        "\n"
      ],
      "metadata": {
        "id": "EW3uMLI1pOBU"
      },
      "execution_count": null,
      "outputs": []
    },
    {
      "cell_type": "code",
      "source": [
        ""
      ],
      "metadata": {
        "id": "4e6E93B9Hbfh"
      },
      "execution_count": null,
      "outputs": []
    },
    {
      "cell_type": "markdown",
      "source": [
        "4)\tUma ONG que atua com atividades de acolhimento para crianças e adolescentes em situação de vulnerabilidade está atuando em algumas regiões que tem recebido ucranianos que estão fugindo da guerra. Para que a ONG tenha mais assertividade na proposição das atividades precisa de um algoritmo para obter a idade das crianças e adolescentes e para classificá-las em uma faixa etária:\n",
        "\n",
        "A – entre 1 e 3 anos\n",
        "\n",
        "B – entre 4 e 7 anos\n",
        "\n",
        "C – entre 7 e 11 anos\n",
        "\n",
        "D – entre 12 e 14 anos\n",
        "\n",
        "E – entre 15 e 18 anos\n",
        "\n",
        "Orientações para o desenvolvimento do programa:\n",
        "\n",
        "- Não sabemos o total de crianças, então o programa deverá permitir que o usuário informe se deseja continuar o processo ou encerrar.\n",
        "- Ao encerrar o processo o programa deverá mostrar o total de crianças em cada faixa etária e a média de idades de cada faixa etária. O programa também deverá apresentar o total geral de crianças.\n"
      ],
      "metadata": {
        "id": "0ta7_xDpBYXd"
      }
    },
    {
      "cell_type": "code",
      "source": [
        "resposta = 'SIM'\n",
        "cont_A = 0\n",
        "soma_A = 0\n",
        "cont_B = 0\n",
        "soma_B = 0\n",
        "cont_C = 0\n",
        "soma_C = 0\n",
        "cont_D = 0\n",
        "soma_D = 0\n",
        "cont_E = 0\n",
        "soma_E = 0\n",
        "\n",
        "while(resposta == 'SIM' or resposta == 'sim'):\n",
        "  idade = int(input(\"Informe a idade \"))\n",
        "  if(idade >= 1 and idade <=3):\n",
        "    print(\"Faixa A\")\n",
        "    cont_A = cont_A + 1\n",
        "    soma_A = soma_A + idade\n",
        "  elif(idade >= 4 and idade <= 7):\n",
        "    print(\"Faixa B\")\n",
        "    cont_B = cont_B + 1\n",
        "    soma_B = soma_B + idade\n",
        "  elif(idade >= 8 and idade <= 11):\n",
        "    print(\"Faixa C\")\n",
        "    cont_C = cont_C + 1\n",
        "    soma_C = soma_C + idade\n",
        "  elif(idade >= 12 and idade <= 14):\n",
        "    print(\"Faixa D\")\n",
        "    cont_D = cont_D + 1\n",
        "    soma_D = soma_D + idade\n",
        "  elif(idade >= 15 and idade <= 18):\n",
        "    print(\"Faixa E\")\n",
        "    cont_E = cont_E + 1\n",
        "    soma_E = soma_E + idade\n",
        "  else:\n",
        "    print(\"Idade não contemplada pelo programa\")\n",
        "  resposta = input(\"Digite SIM se deseja continuar \")\n",
        "\n",
        "media_A = soma_A / cont_A\n",
        "media_B = soma_B / cont_B\n",
        "media_C = soma_C / cont_C\n",
        "media_D = soma_D / cont_D\n",
        "media_E = soma_E / cont_E\n",
        "total_geral   = cont_A + cont_B + cont_C + cont_D + cont_E\n",
        "\n",
        "print(\"Média de idades da faixa A \", media_A)\n",
        "print(\"Média de idades da faixa B \", media_B)\n",
        "print(\"Média de idades da faixa C \", media_C)\n",
        "print(\"Média de idades da faixa D \", media_D)\n",
        "print(\"Média de idades da faixa E \", media_E)\n",
        "\n",
        "print(\"O total de crianças é \", total_geral)"
      ],
      "metadata": {
        "colab": {
          "base_uri": "https://localhost:8080/"
        },
        "id": "QWhY-IKeHeSZ",
        "outputId": "770d2005-1369-4a55-b85a-eb8f74b6d9ba"
      },
      "execution_count": 8,
      "outputs": [
        {
          "output_type": "stream",
          "name": "stdout",
          "text": [
            "Informe a idade 5\n",
            "Faixa B\n",
            "Digite SIM se deseja continuar SIM\n",
            "Informe a idade 10\n",
            "Faixa C\n",
            "Digite SIM se deseja continuar SIM\n",
            "Informe a idade 13\n",
            "Faixa D\n",
            "Digite SIM se deseja continuar SIM\n",
            "Informe a idade 2\n",
            "Faixa A\n",
            "Digite SIM se deseja continuar SIM\n",
            "Informe a idade 18\n",
            "Faixa E\n",
            "Digite SIM se deseja continuar SIM\n",
            "Informe a idade 20\n",
            "Idade não contemplada pelo programa\n",
            "Digite SIM se deseja continuar N\n",
            "Média de idades da faixa A  2.0\n",
            "Média de idades da faixa B  5.0\n",
            "Média de idades da faixa C  10.0\n",
            "Média de idades da faixa D  13.0\n",
            "Média de idades da faixa E  18.0\n",
            "O total de crianças é  5\n"
          ]
        }
      ]
    }
  ]
}