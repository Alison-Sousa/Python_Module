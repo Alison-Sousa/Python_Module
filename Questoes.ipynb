{
  "nbformat": 4,
  "nbformat_minor": 0,
  "metadata": {
    "colab": {
      "provenance": [],
      "authorship_tag": "ABX9TyNi51arV/E5NJ4CPFgS5IR1"
    },
    "kernelspec": {
      "name": "python3",
      "display_name": "Python 3"
    },
    "language_info": {
      "name": "python"
    }
  },
  "cells": [
    {
      "cell_type": "markdown",
      "source": [
        "**Questão 1**"
      ],
      "metadata": {
        "id": "E8HpT2jgrIEr"
      }
    },
    {
      "cell_type": "code",
      "execution_count": null,
      "metadata": {
        "colab": {
          "base_uri": "https://localhost:8080/"
        },
        "id": "xdAn3bKEqjPf",
        "outputId": "361a5bd9-6453-4937-ed06-123fb28f2117"
      },
      "outputs": [
        {
          "output_type": "execute_result",
          "data": {
            "text/plain": [
              "(203060.00000000003,\n",
              " 188845800.00000003,\n",
              " 103865190.00000003,\n",
              " 2697468.8,\n",
              " 15107664.000000002,\n",
              " 6609603.000000002,\n",
              " 9654390.000000002,\n",
              " 50911484.19999999)"
            ]
          },
          "metadata": {},
          "execution_count": 1
        }
      ],
      "source": [
        "# Definindo as variáveis com base nas informações fornecidas\n",
        "\n",
        "# Vendas do ano atual e crescimento esperado\n",
        "vendas_atuais = 182000\n",
        "crescimento = 0.10\n",
        "vendas_adicionais_faculdade = (100 + 120) / 2 * 26  # Média por semana no segundo semestre\n",
        "\n",
        "# Cálculo das vendas estimadas para o próximo ano\n",
        "vendas_estimadas = vendas_atuais * (1 + crescimento) + vendas_adicionais_faculdade\n",
        "\n",
        "# Percentuais e tickets médios\n",
        "percentual_almoco = 0.40\n",
        "percentual_jantar = 0.60\n",
        "ticket_medio_almoco = 750\n",
        "ticket_medio_jantar = 1050\n",
        "\n",
        "# Receita total estimada\n",
        "receita_almoco = vendas_estimadas * percentual_almoco * ticket_medio_almoco\n",
        "receita_jantar = vendas_estimadas * percentual_jantar * ticket_medio_jantar\n",
        "receita_total = receita_almoco + receita_jantar\n",
        "\n",
        "# Custos e despesas\n",
        "percentual_custo_alimentos = 0.55\n",
        "custo_alimentos = receita_total * percentual_custo_alimentos\n",
        "\n",
        "# Mão-de-obra\n",
        "salario_cozinheiros = 1200  # Valor atual por hora\n",
        "aumento_cozinheiros = 100  # Aumento previsto\n",
        "salario_cozinheiros_novo = salario_cozinheiros + aumento_cozinheiros\n",
        "salario_variavel_outros = 0.48  # Por marmita vendida\n",
        "\n",
        "# Calculando mão-de-obra\n",
        "custo_cozinheiros = salario_cozinheiros_novo * 2000  # Horas fixas por ano\n",
        "custo_outros_funcionarios = vendas_estimadas * salario_variavel_outros\n",
        "custo_mao_de_obra = custo_cozinheiros + custo_outros_funcionarios\n",
        "\n",
        "# Outras despesas operacionais\n",
        "percentual_despesas_operacionais = 0.08\n",
        "despesas_operacionais = receita_total * percentual_despesas_operacionais\n",
        "\n",
        "# Marketing\n",
        "percentual_marketing = 0.035\n",
        "custo_marketing = receita_total * percentual_marketing\n",
        "\n",
        "# Despesas fixas (valores fornecidos no caso)\n",
        "depreciacao = 24000\n",
        "seguros = 9400\n",
        "licencas_taxas = 11700\n",
        "aluguel_base = 72000\n",
        "aluguel_variavel = receita_total * 0.05 if receita_total > 1800000 else 0\n",
        "administracao = 95000\n",
        "\n",
        "# Cálculo das despesas fixas totais\n",
        "despesas_fixas = depreciacao + seguros + licencas_taxas + aluguel_base + aluguel_variavel + administracao\n",
        "\n",
        "# Lucro operacional\n",
        "lucro_operacional = receita_total - (custo_alimentos + custo_mao_de_obra + despesas_operacionais + custo_marketing + despesas_fixas)\n",
        "\n",
        "vendas_estimadas, receita_total, custo_alimentos, custo_mao_de_obra, despesas_operacionais, custo_marketing, despesas_fixas, lucro_operacional\n",
        "\n"
      ]
    },
    {
      "cell_type": "markdown",
      "source": [
        "**Questão 2**"
      ],
      "metadata": {
        "id": "4_O0Hy3auQKY"
      }
    },
    {
      "cell_type": "code",
      "source": [
        "# Dados orçados e realizados\n",
        "dados_orcados = {\n",
        "    \"faturamento_bruto\": 1861860,\n",
        "    \"receita_liquida\": 1761760,\n",
        "    \"alimentos\": 1024023,\n",
        "    \"mao_de_obra\": 200096,\n",
        "    \"outras_despesas_operacionais\": 148949,\n",
        "    \"marketing\": 65165,\n",
        "    \"outras_despesas\": 3000,\n",
        "    \"depreciacao\": 24000,\n",
        "    \"seguros\": 9400,\n",
        "    \"licencas_taxas\": 11700,\n",
        "    \"aluguel_base\": 72000,\n",
        "    \"aluguel_variavel\": 3093,\n",
        "    \"administracao\": 95000,\n",
        "    \"lucro\": 105334\n",
        "}\n",
        "\n",
        "dados_realizados = {\n",
        "    \"faturamento_bruto\": 1936025,\n",
        "    \"receita_liquida\": 1726725,\n",
        "    \"alimentos\": 1025870,\n",
        "    \"mao_de_obra\": 185800,\n",
        "    \"outras_despesas_operacionais\": 152450,\n",
        "    \"marketing\": 78625,\n",
        "    \"outras_despesas\": 3320,\n",
        "    \"depreciacao\": 24000,\n",
        "    \"seguros\": 9780,\n",
        "    \"licencas_taxas\": 10940,\n",
        "    \"aluguel_base\": 72000,\n",
        "    \"aluguel_variavel\": 6801,\n",
        "    \"administracao\": 98000,\n",
        "    \"lucro\": 59139\n",
        "}\n",
        "\n",
        "# Cálculo das variações percentuais\n",
        "variacoes = {conta: ((dados_realizados[conta] - dados_orcados[conta]) / dados_orcados[conta] * 100) for conta in dados_orcados}\n",
        "\n",
        "variacoes\n",
        "\n"
      ],
      "metadata": {
        "colab": {
          "base_uri": "https://localhost:8080/"
        },
        "id": "gQvkB-y3rQNK",
        "outputId": "47b416c2-0124-4466-f9d7-3f1791cc12d9"
      },
      "execution_count": null,
      "outputs": [
        {
          "output_type": "execute_result",
          "data": {
            "text/plain": [
              "{'faturamento_bruto': 3.983382209188661,\n",
              " 'receita_liquida': -1.9886363636363635,\n",
              " 'alimentos': 0.1803670425371305,\n",
              " 'mao_de_obra': -7.144570606109067,\n",
              " 'outras_despesas_operacionais': 2.350468952460238,\n",
              " 'marketing': 20.655259725312668,\n",
              " 'outras_despesas': 10.666666666666668,\n",
              " 'depreciacao': 0.0,\n",
              " 'seguros': 4.042553191489362,\n",
              " 'licencas_taxas': -6.495726495726497,\n",
              " 'aluguel_base': 0.0,\n",
              " 'aluguel_variavel': 119.88360814742968,\n",
              " 'administracao': 3.1578947368421053,\n",
              " 'lucro': -43.855735090284234}"
            ]
          },
          "metadata": {},
          "execution_count": 2
        }
      ]
    },
    {
      "cell_type": "markdown",
      "source": [
        "**Questão 3**"
      ],
      "metadata": {
        "id": "kdvsw4RouoXg"
      }
    },
    {
      "cell_type": "code",
      "source": [
        "# Definição dos dados orçados e realizados\n",
        "\n",
        "# Dados Orçados\n",
        "semanas_no_ano = 52\n",
        "media_semanal_orcada = 3850\n",
        "percentual_almoco_orcado = 0.40\n",
        "percentual_jantar_orcado = 0.60\n",
        "ticket_medio_almoco_orcado = 750\n",
        "ticket_medio_jantar_orcado = 1050\n",
        "\n",
        "# Cálculo da receita orçada\n",
        "vendas_totais_orcadas = media_semanal_orcada * semanas_no_ano\n",
        "receita_almoco_orcada = vendas_totais_orcadas * percentual_almoco_orcado * ticket_medio_almoco_orcado\n",
        "receita_jantar_orcada = vendas_totais_orcadas * percentual_jantar_orcado * ticket_medio_jantar_orcado\n",
        "receita_total_orcada = receita_almoco_orcada + receita_jantar_orcada\n",
        "\n",
        "# Dados Realizados\n",
        "media_semanal_realizada = 4025\n",
        "percentual_almoco_realizado = 0.50\n",
        "percentual_jantar_realizado = 0.50\n",
        "ticket_medio_almoco_realizado = 750\n",
        "ticket_medio_jantar_realizado = 1100\n",
        "\n",
        "# Cálculo da receita realizada\n",
        "vendas_totais_realizadas = media_semanal_realizada * semanas_no_ano\n",
        "receita_almoco_realizada = vendas_totais_realizadas * percentual_almoco_realizado * ticket_medio_almoco_realizado\n",
        "receita_jantar_realizada = vendas_totais_realizadas * percentual_jantar_realizado * ticket_medio_jantar_realizado\n",
        "receita_total_realizada = receita_almoco_realizada + receita_jantar_realizada\n",
        "\n",
        "# Análise da variação\n",
        "variação_volume = (vendas_totais_realizadas - vendas_totais_orcadas) / vendas_totais_orcadas * 100\n",
        "variação_receita = (receita_total_realizada - receita_total_orcada) / receita_total_orcada * 100\n",
        "\n",
        "receita_total_orcada, receita_total_realizada, variação_volume, variação_receita\n",
        "\n"
      ],
      "metadata": {
        "colab": {
          "base_uri": "https://localhost:8080/"
        },
        "id": "poOk6KPOupQx",
        "outputId": "edd527d5-dc51-46e3-f75b-100f7e344182"
      },
      "execution_count": null,
      "outputs": [
        {
          "output_type": "execute_result",
          "data": {
            "text/plain": [
              "(186186000.0, 193602500.0, 4.545454545454546, 3.983382209188661)"
            ]
          },
          "metadata": {},
          "execution_count": 3
        }
      ]
    },
    {
      "cell_type": "markdown",
      "source": [
        "**Questão 4**"
      ],
      "metadata": {
        "id": "BiWCHIe_vXEI"
      }
    },
    {
      "cell_type": "code",
      "source": [
        "# Exemplo hipotético para calcular o bônus com base em diferentes cenários de desempenho\n",
        "\n",
        "# Salário anual do gestor\n",
        "salario_anual_gestor = 100000  # Exemplo hipotético\n",
        "\n",
        "# Função para calcular o bônus\n",
        "def calcular_bonus(atingimento_receita, atingimento_lucro):\n",
        "    # Percentual do bônus baseado na receita\n",
        "    bonus_receita = min(atingimento_receita, 100) * 0.50\n",
        "\n",
        "    # Percentual do bônus baseado no lucro\n",
        "    bonus_lucro = min(atingimento_lucro, 100) * 0.50\n",
        "\n",
        "    # Bônus total como percentual do salário\n",
        "    bonus_total_percentual = (bonus_receita + bonus_lucro) * 0.25\n",
        "\n",
        "    # Bônus total em valor monetário\n",
        "    bonus_total_valor = salario_anual_gestor * bonus_total_percentual\n",
        "\n",
        "    return bonus_total_valor\n",
        "\n",
        "# Cenários de exemplo\n",
        "cenario_1 = calcular_bonus(100, 100)  # Atingimento de 100% para ambos\n",
        "cenario_2 = calcular_bonus(110, 90)   # 110% para receita e 90% para lucro\n",
        "cenario_3 = calcular_bonus(95, 105)   # 95% para receita e 105% para lucro\n",
        "\n",
        "cenario_1, cenario_2, cenario_3\n",
        "\n"
      ],
      "metadata": {
        "colab": {
          "base_uri": "https://localhost:8080/"
        },
        "id": "zBTOhLyFvY4w",
        "outputId": "ea7712d0-b2f6-4b51-ade2-643dc3d2146c"
      },
      "execution_count": null,
      "outputs": [
        {
          "output_type": "execute_result",
          "data": {
            "text/plain": [
              "(2500000.0, 2375000.0, 2437500.0)"
            ]
          },
          "metadata": {},
          "execution_count": 4
        }
      ]
    }
  ]
}