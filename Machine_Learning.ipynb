{
  "nbformat": 4,
  "nbformat_minor": 0,
  "metadata": {
    "colab": {
      "name": "Atividade_9",
      "provenance": [],
      "collapsed_sections": []
    },
    "kernelspec": {
      "name": "python3",
      "display_name": "Python 3"
    },
    "language_info": {
      "name": "python"
    }
  },
  "cells": [
    {
      "cell_type": "code",
      "execution_count": 6,
      "metadata": {
        "colab": {
          "base_uri": "https://localhost:8080/"
        },
        "id": "iCA-LEVU10oS",
        "outputId": "fbfc5663-258d-41f9-839f-d21d33d903cc"
      },
      "outputs": [
        {
          "output_type": "stream",
          "name": "stdout",
          "text": [
            "O valor da acuracia é 70.0 %\n",
            "O valor da precisao é 42.857142857142854 %\n",
            "O valor do recall é 60.0 %\n"
          ]
        }
      ],
      "source": [
        "#acuracia\n",
        "\n",
        "vp = 3\n",
        "vn = 4\n",
        "fp = 1\n",
        "fn = 2\n",
        "\n",
        "acuracia = (vp+vn)/(vp + fp + fn + vn)\n",
        "percentual= acuracia * 100 \n",
        "\n",
        "precisao= vp/(vp+vn)\n",
        "percentual_2= precisao * 100 \n",
        "\n",
        "recall = vp/(vp+fn)\n",
        "percentual_3= recall * 100 \n",
        "\n",
        "\n",
        "print('O valor da acuracia é', percentual,'%') \n",
        "print('O valor da precisao é', percentual_2,'%')\n",
        "print('O valor do recall é', percentual_3,'%')"
      ]
    }
  ]
}